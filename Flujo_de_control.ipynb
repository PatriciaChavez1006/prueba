{
  "nbformat": 4,
  "nbformat_minor": 0,
  "metadata": {
    "colab": {
      "name": "Flujo de control.ipynb",
      "provenance": [],
      "collapsed_sections": []
    },
    "kernelspec": {
      "name": "python3",
      "display_name": "Python 3"
    }
  },
  "cells": [
    {
      "cell_type": "markdown",
      "metadata": {
        "id": "xafRyRMzSdDI",
        "colab_type": "text"
      },
      "source": [
        "FLUJO DE CONTROL\n",
        "\n",
        "\n",
        "\n",
        "*   Agregar funcionalidad al codigo\n",
        "*   Condicionales\n",
        "*   Ciclos for y while\n",
        "*   Break y Continue\n",
        "\n",
        "\n",
        "\n",
        "\n"
      ]
    },
    {
      "cell_type": "markdown",
      "metadata": {
        "id": "MqNGcivBUJ0A",
        "colab_type": "text"
      },
      "source": [
        "Condicionales\n",
        "\n",
        "\n",
        "1.   Empieza con if\n",
        "2.   Condicion que se va a evaluar, la condicion se expresa como booleano\n",
        "1.   Se cierra con punto y coma\n",
        "2.   En el siguiente renglon se indenta el bloque de codigo que se quiere ejecutar si falso (si no es verdadero se pasa)\n",
        "1.   Si quieres que se ejecute algo si la condicion es falsa se utiliza else\n",
        "\n",
        "\n",
        "\n",
        "\n",
        "\n",
        "\n",
        "\n",
        "\n"
      ]
    },
    {
      "cell_type": "code",
      "metadata": {
        "id": "nxL090LSSWSW",
        "colab_type": "code",
        "outputId": "d7453fec-fdc0-4cea-d96c-4b5436aa0b63",
        "colab": {
          "base_uri": "https://localhost:8080/",
          "height": 51
        }
      },
      "source": [
        "balance_cel = 11\n",
        "balance_banco = 50\n",
        "\n",
        "if balance_cel < 10:\n",
        "    balance_cel += 10\n",
        "    balance_banco -= 10\n",
        "\n",
        "print(balance_cel)\n",
        "print(balance_banco)"
      ],
      "execution_count": 0,
      "outputs": [
        {
          "output_type": "stream",
          "text": [
            "11\n",
            "50\n"
          ],
          "name": "stdout"
        }
      ]
    },
    {
      "cell_type": "markdown",
      "metadata": {
        "colab_type": "text",
        "id": "4VoN8EyvYWgg"
      },
      "source": [
        "Ejerciceo: Diseñen un algoritmo que te deje saber que premio ganaste en base a tus puntos.\n",
        "\n",
        "1-50 = conejo,\n",
        "\n",
        "\n",
        "51-150 = sigue participando,\n",
        "151-180 = tren,\n",
        "181-200 = descanzo el 31 de diciembre,\n",
        "\n",
        "\n",
        "\n",
        "\n",
        "\n",
        "NOTA: Todos los valores son inclusivos\n",
        "\n"
      ]
    },
    {
      "cell_type": "code",
      "metadata": {
        "id": "nGhRw-dLZE81",
        "colab_type": "code",
        "outputId": "3149634a-8488-45b0-eee8-40e6f09bed9d",
        "colab": {
          "base_uri": "https://localhost:8080/",
          "height": 34
        }
      },
      "source": [
        "points = 174\n",
        "\n"
      ],
      "execution_count": 0,
      "outputs": [
        {
          "output_type": "stream",
          "text": [
            "Congratulations! You won a wafer-thin mint!\n"
          ],
          "name": "stdout"
        }
      ]
    },
    {
      "cell_type": "markdown",
      "metadata": {
        "id": "vxSsno5GTbaN",
        "colab_type": "text"
      },
      "source": [
        "Ciclos \n",
        "\n",
        "\n",
        "\n",
        "1.   Ciclos For\n",
        "2.   Ciclos While\n",
        "\n",
        "\n",
        "For, es usado para iterar algo repetidamente, sobre un iterable\n",
        "Iterable es un objeto que puede regresar un elemento a la vez\n",
        "range() crear una secuencia de numeros iterables\n",
        "\n"
      ]
    },
    {
      "cell_type": "markdown",
      "metadata": {
        "id": "KvxPdiziYNqz",
        "colab_type": "text"
      },
      "source": [
        "Se pueden crear nuevas listas usando el metodo append en una lista vacia"
      ]
    },
    {
      "cell_type": "code",
      "metadata": {
        "id": "sb4eKmknYL1X",
        "colab_type": "code",
        "colab": {}
      },
      "source": [
        "# Creating a new list\n",
        "cities = ['new york city', 'mountain view', 'chicago', 'los angeles']\n",
        "capitalized_cities = []\n",
        "\n",
        "for city in cities:\n",
        "    capitalized_cities.append(city.title())"
      ],
      "execution_count": 0,
      "outputs": []
    },
    {
      "cell_type": "markdown",
      "metadata": {
        "id": "RTKGumxvYa6m",
        "colab_type": "text"
      },
      "source": [
        "Para modificar necesitamos range para generar los indices"
      ]
    },
    {
      "cell_type": "code",
      "metadata": {
        "id": "_EfQUPnFYWu7",
        "colab_type": "code",
        "colab": {}
      },
      "source": [
        "cities = ['new york city', 'mountain view', 'chicago', 'los angeles']\n",
        "\n",
        "for index in range(len(cities)):\n",
        "    cities[index] = cities[index].title()"
      ],
      "execution_count": 0,
      "outputs": []
    },
    {
      "cell_type": "markdown",
      "metadata": {
        "id": "qWvWZDqAdKpL",
        "colab_type": "text"
      },
      "source": [
        "While\n",
        "\n",
        "A diferencia de los ciclos for, los while loops son indefinidos"
      ]
    },
    {
      "cell_type": "code",
      "metadata": {
        "id": "e3abLfozdTN9",
        "colab_type": "code",
        "outputId": "4b153926-4644-4cd6-8a00-1656be711f4d",
        "colab": {
          "base_uri": "https://localhost:8080/",
          "height": 85
        }
      },
      "source": [
        "deck= [4, 11, 8, 5, 13, 2, 8, 10]\n",
        "mano = []\n",
        "\n",
        "# suma los valores de las cartes del deck en la mano\n",
        "# hasta que los valores de la carta suman a 21\n",
        "while sum(mano)  < 21:\n",
        "    mano.append(deck.pop())\n",
        "    print(mano)"
      ],
      "execution_count": 0,
      "outputs": [
        {
          "output_type": "stream",
          "text": [
            "[10]\n",
            "[10, 8]\n",
            "[10, 8, 2]\n",
            "[10, 8, 2, 13]\n"
          ],
          "name": "stdout"
        }
      ]
    },
    {
      "cell_type": "code",
      "metadata": {
        "id": "IMgJHtLCfUML",
        "colab_type": "code",
        "colab": {}
      },
      "source": [
        ""
      ],
      "execution_count": 0,
      "outputs": []
    }
  ]
}